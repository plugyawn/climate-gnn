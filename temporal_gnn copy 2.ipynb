{
 "cells": [
  {
   "cell_type": "code",
   "execution_count": 1,
   "metadata": {},
   "outputs": [],
   "source": [
    "import networkx as nx\n",
    "import torch\n",
    "from torch_geometric.data import Data\n",
    "import torch_geometric\n",
    "import numpy as np\n",
    "from torch_geometric.datasets import CoraFull, CitationFull\n",
    "import matplotlib.pyplot as plt\n",
    "from pylab import rcParams\n",
    "import pandas as pd\n",
    "from torch_geometric.data import Data\n",
    "from torch_geometric.utils import to_undirected\n",
    "from torch_geometric.transforms import ToUndirected\n",
    "from tqdm import tqdm\n",
    "import torch\n",
    "import torch.nn.functional as F\n",
    "from torch_geometric_temporal.nn.recurrent import DCRNN\n",
    "from torch_geometric.transforms import ToUndirected\n",
    "import torch\n",
    "import torch.nn.functional as F\n",
    "from torch_geometric_temporal.nn.recurrent import DCRNN\n",
    "from torch_geometric_temporal.signal import temporal_signal_split\n",
    "from torch_geometric_temporal.nn.recurrent import TGCN\n",
    "from torch_geometric_temporal.signal import temporal_signal_split\n",
    "from torch_geometric_temporal.signal import DynamicGraphTemporalSignal\n",
    "\n",
    "\n",
    "%config InlineBackend.figure_format = 'retina'\n"
   ]
  },
  {
   "cell_type": "code",
   "execution_count": 2,
   "metadata": {},
   "outputs": [],
   "source": [
    "ADJ_PATH = '/home/udit/Documents/Progyan/results_new_95/Decade_{}-{}.npy'\n",
    "COORD_PATH = '/home/udit/Documents/Progyan/lat_lon-1901.csv'"
   ]
  },
  {
   "cell_type": "code",
   "execution_count": 20,
   "metadata": {},
   "outputs": [
    {
     "name": "stderr",
     "output_type": "stream",
     "text": [
      "100%|██████████| 1/1 [00:05<00:00,  5.79s/it]\n"
     ]
    }
   ],
   "source": [
    "graph_list = []\n",
    "\n",
    "for year in tqdm(range(11, 101, 9)):\n",
    "    i = 1900 + year\n",
    "    j = 1909 + year\n",
    "    adj_matrix = np.load(ADJ_PATH.format(i, j))\n",
    "    lat_lon_df = pd.read_csv(COORD_PATH)\n",
    "\n",
    "    adj_matrix = adj_matrix + adj_matrix.transpose()\n",
    "\n",
    "    ##### REMOVE ######\n",
    "    adj_matrix = adj_matrix[:4523, :4523]\n",
    "    ###################\n",
    "\n",
    "    adj_matrix[adj_matrix < 0.3] = 0\n",
    "    np.fill_diagonal(adj_matrix, 0)\n",
    "    G = nx.from_numpy_matrix(adj_matrix)\n",
    "\n",
    "    lat_lon_dict = {}\n",
    "    for i in range(len(lat_lon_df)):\n",
    "        lat_lon_dict[i] = (lat_lon_df.loc[i, 'lon'], lat_lon_df.loc[i, 'lat'])\n",
    "\n",
    "    nx.set_node_attributes(G, lat_lon_dict, 'pos')\n",
    "    pos = nx.get_node_attributes(G, 'pos')\n",
    "\n",
    "    central_nodes = []\n",
    "\n",
    "    for n in G.nodes:\n",
    "        if G.nodes[n]['pos'][0] > 74.5 and G.nodes[n]['pos'][0] < 86.5 and G.nodes[n]['pos'][1] > 16.5 and G.nodes[n]['pos'][1] < 26.5:\n",
    "            central_nodes.append(n)\n",
    "\n",
    "    G = G.subgraph(central_nodes)\n",
    "\n",
    "    graph_list.append(G)"
   ]
  },
  {
   "cell_type": "code",
   "execution_count": 4,
   "metadata": {},
   "outputs": [
    {
     "name": "stderr",
     "output_type": "stream",
     "text": [
      "0it [00:00, ?it/s]/tmp/ipykernel_12020/608786376.py:14: MatplotlibDeprecationWarning: The get_cmap function was deprecated in Matplotlib 3.7 and will be removed two minor releases later. Use ``matplotlib.colormaps[name]`` or ``matplotlib.colormaps.get_cmap(obj)`` instead.\n",
      "  cmap = plt.cm.get_cmap('tab20')\n",
      "/tmp/ipykernel_12020/608786376.py:15: MatplotlibDeprecationWarning: The get_cmap function was deprecated in Matplotlib 3.7 and will be removed two minor releases later. Use ``matplotlib.colormaps[name]`` or ``matplotlib.colormaps.get_cmap(obj)`` instead.\n",
      "  cmap_edge = plt.cm.get_cmap('tab20')\n",
      "9it [00:01,  8.83it/s]\n"
     ]
    },
    {
     "data": {
      "text/plain": [
       "<Figure size 1000x1000 with 0 Axes>"
      ]
     },
     "metadata": {},
     "output_type": "display_data"
    },
    {
     "data": {
      "text/plain": [
       "<Figure size 1000x1000 with 0 Axes>"
      ]
     },
     "metadata": {},
     "output_type": "display_data"
    },
    {
     "data": {
      "text/plain": [
       "<Figure size 1000x1000 with 0 Axes>"
      ]
     },
     "metadata": {},
     "output_type": "display_data"
    },
    {
     "data": {
      "text/plain": [
       "<Figure size 1000x1000 with 0 Axes>"
      ]
     },
     "metadata": {},
     "output_type": "display_data"
    },
    {
     "data": {
      "text/plain": [
       "<Figure size 1000x1000 with 0 Axes>"
      ]
     },
     "metadata": {},
     "output_type": "display_data"
    },
    {
     "data": {
      "text/plain": [
       "<Figure size 1000x1000 with 0 Axes>"
      ]
     },
     "metadata": {},
     "output_type": "display_data"
    },
    {
     "data": {
      "text/plain": [
       "<Figure size 1000x1000 with 0 Axes>"
      ]
     },
     "metadata": {},
     "output_type": "display_data"
    },
    {
     "data": {
      "text/plain": [
       "<Figure size 1000x1000 with 0 Axes>"
      ]
     },
     "metadata": {},
     "output_type": "display_data"
    },
    {
     "data": {
      "text/plain": [
       "<Figure size 1000x1000 with 0 Axes>"
      ]
     },
     "metadata": {},
     "output_type": "display_data"
    }
   ],
   "source": [
    "for _, G in tqdm(enumerate(graph_list)):        \n",
    "    plot = plt.figure(figsize=(10,10))\n",
    "    india_coords = [[67, 97], [5.5, 38]]\n",
    "    india_pos = {}\n",
    "\n",
    "    for node_id, coords in pos.items():\n",
    "        if coords[1] > 5.5 and coords[1] < 38 and coords[0] > 67 and coords[0] < 97:\n",
    "            india_pos[node_id] = coords\n",
    "\n",
    "    d = dict(G.degree)\n",
    "    degree_dict = dict(G.degree()) \n",
    "    degree_values = np.array(list(degree_dict.values())) \n",
    "\n",
    "    cmap = plt.cm.get_cmap('tab20')\n",
    "    cmap_edge = plt.cm.get_cmap('tab20')\n",
    "\n",
    "    normalized_degrees = (degree_values - degree_values.min()) / (degree_values.max() - degree_values.min())\n",
    "\n",
    "    node_colors = cmap(normalized_degrees)\n",
    "\n",
    "    edge_widths = [d['weight'] for (u, v, d) in G.edges(data=True)]\n",
    "    edge_colors = [d['weight']**3 for (u, v, d) in G.edges(data=True)]\n",
    "\n",
    "    edge_colors = cmap_edge(edge_colors)\n",
    "\n",
    "    ################# PLOT NETWORK #####################\n",
    "    # nx.draw_networkx(G, pos = india_pos,\n",
    "    #         nodelist=d, \n",
    "    #         width=edge_widths,\n",
    "    #         edge_color=edge_colors,\n",
    "    #         edgecolors = 'black',\n",
    "    #         node_size=[(d[k])**1.5 for k in d],\n",
    "    #         with_labels = False,\n",
    "    #         node_color=node_colors,)\n",
    "            \n",
    "    # img = plt.imread('/home/udit/Documents/Progyan/GNN/physical-map-india.jpg')\n",
    "    # plt.imshow(img, extent=[68, 96.5, 5.5, 36.5], alpha=1)\n",
    "    ######################################################\n",
    "\n",
    "    save = plt.savefig(f'./temporal_train_graphs/graph{_}.png')"
   ]
  },
  {
   "cell_type": "code",
   "execution_count": 5,
   "metadata": {},
   "outputs": [],
   "source": [
    "class RecurrentGCN(torch.nn.Module):\n",
    "    def __init__(self, node_features):\n",
    "        super(RecurrentGCN, self).__init__()\n",
    "        self.recurrent = DCRNN(node_features, 32, 1)\n",
    "        self.linear = torch.nn.Linear(32, 1)\n",
    "\n",
    "    def forward(self, x, edge_index, edge_weight):\n",
    "        h = self.recurrent(x, edge_index, edge_weight)\n",
    "        h = F.relu(h)\n",
    "        h = self.linear(h)\n",
    "        return h"
   ]
  },
  {
   "cell_type": "code",
   "execution_count": 6,
   "metadata": {},
   "outputs": [],
   "source": [
    "device = \"cuda:0\""
   ]
  },
  {
   "cell_type": "code",
   "execution_count": 7,
   "metadata": {},
   "outputs": [
    {
     "name": "stderr",
     "output_type": "stream",
     "text": [
      "9it [00:43,  4.88s/it]\n"
     ]
    }
   ],
   "source": [
    "lat_lon_df = lat_lon_df.iloc[central_nodes]\n",
    "\n",
    "list_node_features = []\n",
    "list_edge_list = []\n",
    "list_target_features = []\n",
    "list_edge_weights = []\n",
    "\n",
    "list_node_features_cpu = []\n",
    "list_edge_list_cpu = []\n",
    "list_target_features_cpu = []\n",
    "list_edge_weights_cpu = []\n",
    "\n",
    "for i, graph in tqdm(enumerate(graph_list)):\n",
    "    adj_matrix = nx.to_numpy_matrix(graph)\n",
    "\n",
    "    node_features = []\n",
    "    for i in lat_lon_df.index:\n",
    "        node_features.append([lat_lon_df.loc[i, 'lon'], lat_lon_df.loc[i, 'lat']])\n",
    "    node_features = torch.tensor(node_features, dtype=torch.float)\n",
    "\n",
    "\n",
    "    edge_list = set()\n",
    "    edge_weights = []\n",
    "    for i in range(adj_matrix.shape[0]):\n",
    "        for j in range(adj_matrix.shape[1]):\n",
    "            if adj_matrix[i, j] > 0:\n",
    "                append_edge = frozenset({i, j})\n",
    "                edge_list.add(append_edge)\n",
    "    edge_list = [tuple(x) for x in list(edge_list)]\n",
    "\n",
    "\n",
    "    for x,y in edge_list:\n",
    "        edge_weights.append(adj_matrix[x, y])\n",
    "\n",
    "    edge_list = np.array(edge_list)\n",
    "    edge_weights = np.array(edge_weights)\n",
    "    edge_list = edge_list.transpose()\n",
    "\n",
    "    central_pos = {}\n",
    "    for _, i in enumerate(central_nodes):\n",
    "        central_pos[_] = pos[i]\n",
    "\n",
    "    transform = ToUndirected()\n",
    "\n",
    "    list_node_features_cpu.append(np.array(node_features))\n",
    "    list_edge_list_cpu.append(edge_list)\n",
    "    list_target_features_cpu.append(np.array(torch.randn_like(node_features[:, 0])))\n",
    "    list_edge_weights_cpu.append(edge_weights)\n",
    "\n",
    "    list_node_features.append((node_features).to(device))\n",
    "    list_edge_list.append((torch.from_numpy(edge_list)).to(device))\n",
    "    list_target_features.append((torch.randn_like(node_features[:, 0])).to(device))\n",
    "    list_edge_weights.append(torch.tensor(edge_weights).to(device))\n",
    "\n",
    "node_features_batch = (list_node_features)\n",
    "edge_list_batch = (list_edge_list)\n",
    "target_features_batch = (list_target_features)\n",
    "edge_weights_batch = (list_edge_weights)\n",
    "\n",
    "node_features_batch_cpu = list_node_features_cpu\n",
    "edge_list_batch_cpu = list_edge_list_cpu\n",
    "target_features_batch_cpu = list_target_features_cpu\n",
    "edge_weights_batch_cpu = list_edge_weights_cpu\n",
    "\n"
   ]
  },
  {
   "cell_type": "code",
   "execution_count": 14,
   "metadata": {},
   "outputs": [],
   "source": [
    "dataset = DynamicGraphTemporalSignal(edge_indices= edge_list_batch, edge_weights=edge_weights_batch, features=node_features_batch, targets=target_features_batch)\n",
    "\n",
    "dataset_cpu = DynamicGraphTemporalSignal(edge_indices= edge_list_batch_cpu, edge_weights=edge_weights_batch_cpu, features=node_features_batch_cpu, targets=target_features_batch_cpu)"
   ]
  },
  {
   "cell_type": "code",
   "execution_count": 9,
   "metadata": {},
   "outputs": [
    {
     "name": "stdout",
     "output_type": "stream",
     "text": [
      "TemporalGNN(\n",
      "  (recurrent): MPNNLSTM(\n",
      "    (_convolution_1): GCNConv(2, 64)\n",
      "    (_convolution_2): GCNConv(64, 64)\n",
      "    (_batch_norm_1): BatchNorm1d(64, eps=1e-05, momentum=0.1, affine=True, track_running_stats=True)\n",
      "    (_batch_norm_2): BatchNorm1d(64, eps=1e-05, momentum=0.1, affine=True, track_running_stats=True)\n",
      "    (_recurrent_1): LSTM(128, 64)\n",
      "    (_recurrent_2): LSTM(64, 64)\n",
      "  )\n",
      "  (dropout): Dropout(p=0.5, inplace=False)\n",
      "  (linear): Linear(in_features=130, out_features=1, bias=True)\n",
      ")\n"
     ]
    },
    {
     "data": {
      "text/plain": [
       "TemporalGNN(\n",
       "  (recurrent): MPNNLSTM(\n",
       "    (_convolution_1): GCNConv(2, 64)\n",
       "    (_convolution_2): GCNConv(64, 64)\n",
       "    (_batch_norm_1): BatchNorm1d(64, eps=1e-05, momentum=0.1, affine=True, track_running_stats=True)\n",
       "    (_batch_norm_2): BatchNorm1d(64, eps=1e-05, momentum=0.1, affine=True, track_running_stats=True)\n",
       "    (_recurrent_1): LSTM(128, 64)\n",
       "    (_recurrent_2): LSTM(64, 64)\n",
       "  )\n",
       "  (dropout): Dropout(p=0.5, inplace=False)\n",
       "  (linear): Linear(in_features=130, out_features=1, bias=True)\n",
       ")"
      ]
     },
     "execution_count": 9,
     "metadata": {},
     "output_type": "execute_result"
    }
   ],
   "source": [
    "from torch_geometric_temporal.nn.recurrent import MPNNLSTM\n",
    "\n",
    "class TemporalGNN(torch.nn.Module):\n",
    "    def __init__(self, dim_in, dim_h, num_nodes):\n",
    "        super().__init__()\n",
    "        self.recurrent = MPNNLSTM(dim_in, dim_h, num_nodes, 1, 0.5).to(device)\n",
    "        self.dropout = torch.nn.Dropout(0.5).to(device)\n",
    "        self.linear = torch.nn.Linear(2*dim_h + dim_in, 1).to(device)\n",
    "\n",
    "    def forward(self, x, edge_index, edge_weight):\n",
    "        h = self.recurrent(x, edge_index, edge_weight).relu()\n",
    "        h = self.dropout(h)\n",
    "        h = self.linear(h).tanh()\n",
    "        return h\n",
    "\n",
    "model = TemporalGNN(dataset_cpu[0].x.shape[1], 64, dataset_cpu[0].x.shape[0])\n",
    "print(model)\n",
    "optimizer = torch.optim.Adam(model.parameters(), lr=0.001)\n",
    "model.train()\n"
   ]
  },
  {
   "cell_type": "code",
   "execution_count": 10,
   "metadata": {},
   "outputs": [],
   "source": [
    "train_dataset, test_dataset = temporal_signal_split(dataset_cpu, train_ratio=0.8)"
   ]
  },
  {
   "cell_type": "code",
   "execution_count": 11,
   "metadata": {},
   "outputs": [],
   "source": [
    "model = model.to(\"cuda:0\")"
   ]
  },
  {
   "cell_type": "code",
   "execution_count": 12,
   "metadata": {},
   "outputs": [
    {
     "name": "stderr",
     "output_type": "stream",
     "text": [
      "100%|██████████| 100/100 [00:07<00:00, 14.08it/s]\n"
     ]
    }
   ],
   "source": [
    "for epoch in tqdm(range(100)):\n",
    "    loss = 0\n",
    "    for i, snapshot in enumerate(train_dataset):\n",
    "        snapshot = snapshot.cuda()\n",
    "        y_pred = model(snapshot.x, snapshot.edge_index, snapshot.edge_attr)\n",
    "        loss = loss + torch.mean((y_pred - snapshot.y)**2)\n",
    "    loss = loss / (i+1)\n",
    "    loss.backward()\n",
    "    optimizer.step()\n",
    "    optimizer.zero_grad()"
   ]
  },
  {
   "cell_type": "code",
   "execution_count": 13,
   "metadata": {},
   "outputs": [
    {
     "name": "stdout",
     "output_type": "stream",
     "text": [
      "MSE: 1.0153\n"
     ]
    }
   ],
   "source": [
    "model.eval()\n",
    "loss = 0\n",
    "for i, snapshot in enumerate(test_dataset):\n",
    "    snapshot = snapshot.to(device)\n",
    "    y_pred = model(snapshot.x, snapshot.edge_index, snapshot.edge_attr)\n",
    "    mse = torch.mean((y_pred-snapshot.y)**2)\n",
    "    loss += mse\n",
    "loss = loss / (i+1)\n",
    "print(f'MSE: {loss.item():.4f}')"
   ]
  }
 ],
 "metadata": {
  "kernelspec": {
   "display_name": "geometric",
   "language": "python",
   "name": "python3"
  },
  "language_info": {
   "codemirror_mode": {
    "name": "ipython",
    "version": 3
   },
   "file_extension": ".py",
   "mimetype": "text/x-python",
   "name": "python",
   "nbconvert_exporter": "python",
   "pygments_lexer": "ipython3",
   "version": "3.9.0"
  },
  "orig_nbformat": 4
 },
 "nbformat": 4,
 "nbformat_minor": 2
}

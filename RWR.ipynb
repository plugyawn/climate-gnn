{
 "cells": [
  {
   "cell_type": "code",
   "execution_count": 1,
   "metadata": {},
   "outputs": [],
   "source": [
    "import numpy as np\n",
    "\n",
    "def rwr(start_node, adj_matrix, restart_prob, num_steps):\n",
    "    \n",
    "\n",
    "    curr_node = start_node\n",
    "    seq=[start_node]\n",
    "    \n",
    "    for i in range(num_steps):\n",
    "        # with probability restart_prob, reset the probabilities to the initial values\n",
    "        if np.random.rand() < restart_prob:\n",
    "            curr_node = start_node\n",
    "            seq.append(curr_node)\n",
    "        else:\n",
    "            # otherwise, take a step in the random walk\n",
    "            neighbours = adj_matrix[curr_node]            \n",
    "            neighbours = neighbours/np.sum(neighbours)\n",
    "\n",
    "            curr_node = np.random.choice(len(neighbours), p=neighbours)\n",
    "            seq.append(curr_node)\n",
    "    \n",
    "    return seq"
   ]
  },
  {
   "cell_type": "code",
   "execution_count": null,
   "metadata": {},
   "outputs": [],
   "source": [
    "def get_ego_net(seq, centre_node):\n",
    "    \"\"\"Returns the ego network of a given node in a random walk sequence.\"\"\"\n",
    "    \n",
    "    ego_net = []\n",
    "\n",
    "    for i in range(len(seq)):\n",
    "        if seq[i] == centre_node:\n",
    "            if i<len(seq)-1 and seq[i+1] not in ego_net and seq[i+1]!=centre_node:\n",
    "                ego_net.append(seq[i+1])\n",
    "    \n",
    "    return ego_net"
   ]
  },
  {
   "cell_type": "code",
   "execution_count": null,
   "metadata": {},
   "outputs": [],
   "source": [
    "adj_matrix = np.array([[0, 1, 1, 1],\n",
    "                       [1, 0, 1, 1],\n",
    "                       [1, 1, 0, 1],\n",
    "                       [1, 1, 1, 0]])\n",
    "\n",
    "seq = rwr(0, adj_matrix, 0.2, 8)\n",
    "\n",
    "print(seq)\n",
    "print(get_ego_net(seq, 0))"
   ]
  }
 ],
 "metadata": {
  "kernelspec": {
   "display_name": "geometric",
   "language": "python",
   "name": "python3"
  },
  "language_info": {
   "codemirror_mode": {
    "name": "ipython",
    "version": 3
   },
   "file_extension": ".py",
   "mimetype": "text/x-python",
   "name": "python",
   "nbconvert_exporter": "python",
   "pygments_lexer": "ipython3",
   "version": "3.9.0"
  },
  "orig_nbformat": 4
 },
 "nbformat": 4,
 "nbformat_minor": 2
}
